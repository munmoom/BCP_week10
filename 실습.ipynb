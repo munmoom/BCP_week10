{
  "nbformat": 4,
  "nbformat_minor": 0,
  "metadata": {
    "colab": {
      "name": "Untitled45.ipynb",
      "provenance": [],
      "authorship_tag": "ABX9TyPXsb+iChMip/YjfkWvSfYS",
      "include_colab_link": true
    },
    "kernelspec": {
      "name": "python3",
      "display_name": "Python 3"
    },
    "language_info": {
      "name": "python"
    }
  },
  "cells": [
    {
      "cell_type": "markdown",
      "metadata": {
        "id": "view-in-github",
        "colab_type": "text"
      },
      "source": [
        "<a href=\"https://colab.research.google.com/github/munmoom/BCP_week10/blob/main/%EC%8B%A4%EC%8A%B5.ipynb\" target=\"_parent\"><img src=\"https://colab.research.google.com/assets/colab-badge.svg\" alt=\"Open In Colab\"/></a>"
      ]
    },
    {
      "cell_type": "code",
      "execution_count": 2,
      "metadata": {
        "colab": {
          "base_uri": "https://localhost:8080/",
          "height": 137
        },
        "id": "VGVzxWnHviCG",
        "outputId": "802ea097-b21d-4464-ceb2-64fb079c63fd"
      },
      "outputs": [
        {
          "output_type": "error",
          "ename": "SyntaxError",
          "evalue": "ignored",
          "traceback": [
            "\u001b[0;36m  File \u001b[0;32m\"<ipython-input-2-035f074a3ea2>\"\u001b[0;36m, line \u001b[0;32m1\u001b[0m\n\u001b[0;31m    n,l=map(int, input()).split())\u001b[0m\n\u001b[0m                                 ^\u001b[0m\n\u001b[0;31mSyntaxError\u001b[0m\u001b[0;31m:\u001b[0m invalid syntax\n"
          ]
        }
      ],
      "source": [
        "n,l=map(int, input()).split())"
      ]
    },
    {
      "cell_type": "code",
      "source": [
        "li = list(map(int, input().split()))\n",
        "X = li[0]\n",
        "Y = li[1]\n",
        "Z = li[2]\n",
        "A = li[3]\n",
        "B = li[4]\n",
        "\n",
        "if X<Z and Y<Z:\n",
        "  price=X*A+Y*B\n",
        "if X>Z and Y>Z:\n",
        "  price=Z*A+Z*B\n",
        "\n",
        "if X>Z and Y<Z:\n",
        "  if X+Y>Z:\n",
        "    if A<B:\n",
        "      price = 2*Z*A+Y*(B-A)\n",
        "    if A>B:\n",
        "      price = 2*Z*B+X*(A-B)\n",
        "  else:\n",
        "    price=X*A+Y*B\n",
        "\n",
        "if X<Z and Y>Z:\n",
        "  if X+Y>Z:\n",
        "    if A<B:\n",
        "      price = 2*Z*A+Y*(B-A)\n",
        "    if A>B:\n",
        "      price = 2*Z*B+X*(A-B)\n",
        "  else:\n",
        "    price=X*A+Y*B\n",
        "\n",
        "\n",
        "\n",
        "print(price)\n",
        "\n",
        "#X+Y가 2Z보다 작으면 A나 B중에 큰 값에 2Z를 곱한 값."
      ],
      "metadata": {
        "colab": {
          "base_uri": "https://localhost:8080/"
        },
        "id": "Y0yRxMTryB7s",
        "outputId": "ebd803b6-0d73-4d42-f347-889abd8e93cc"
      },
      "execution_count": 5,
      "outputs": [
        {
          "output_type": "stream",
          "name": "stdout",
          "text": [
            "1500 2000 1600 3 2\n",
            "7900\n"
          ]
        }
      ]
    },
    {
      "cell_type": "code",
      "source": [
        ""
      ],
      "metadata": {
        "id": "-mTaBZL__jHk"
      },
      "execution_count": null,
      "outputs": []
    }
  ]
}